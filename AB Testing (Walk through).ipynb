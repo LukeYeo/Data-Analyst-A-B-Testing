{
 "cells": [
  {
   "cell_type": "markdown",
   "id": "e5aa8924",
   "metadata": {},
   "source": [
    "RESOURCES AND CREDITS TO : </br>\n",
    "FREECODECAMP: https://youtu.be/FTpmwX94_Yo?si=j64-jlPtn7MiqfzQ </br>\n",
    "RESOURCES: https://github.com/TatevKaren/CaseStudies/tree/main/AB%20Testing </br>\n",
    "\n",
    "Look at the pdf (Walk through of AB Testing theory and steps.pdf) to see the steps , walkthrough and explanation  \n",
    "\n",
    "THIS PROJECT IS DONE BY LUKE YEO: \n",
    "\n",
    "this project is mainly done for learning, it is not for copying/pasting code and say that it is mine. "
   ]
  },
  {
   "cell_type": "code",
   "execution_count": 1,
   "id": "a7c2a791",
   "metadata": {},
   "outputs": [],
   "source": [
    "import pandas as pd \n",
    "import numpy as np\n",
    "import matplotlib.pyplot as plt\n",
    "from scipy.stats import norm"
   ]
  },
  {
   "cell_type": "markdown",
   "id": "28912a98",
   "metadata": {},
   "source": [
    "<h2> 1) READ THE FILE AND SEE THE DATA</h2>"
   ]
  },
  {
   "cell_type": "code",
   "execution_count": 2,
   "id": "d1c7ccf2",
   "metadata": {},
   "outputs": [],
   "source": [
    "#read the dataset file\n",
    "df = pd.read_csv('ab_test_click_data.csv')"
   ]
  },
  {
   "cell_type": "code",
   "execution_count": 3,
   "id": "1f5664ed",
   "metadata": {},
   "outputs": [
    {
     "data": {
      "text/html": [
       "<div>\n",
       "<style scoped>\n",
       "    .dataframe tbody tr th:only-of-type {\n",
       "        vertical-align: middle;\n",
       "    }\n",
       "\n",
       "    .dataframe tbody tr th {\n",
       "        vertical-align: top;\n",
       "    }\n",
       "\n",
       "    .dataframe thead th {\n",
       "        text-align: right;\n",
       "    }\n",
       "</style>\n",
       "<table border=\"1\" class=\"dataframe\">\n",
       "  <thead>\n",
       "    <tr style=\"text-align: right;\">\n",
       "      <th></th>\n",
       "      <th>user_id</th>\n",
       "      <th>click</th>\n",
       "      <th>group</th>\n",
       "      <th>timestamp</th>\n",
       "    </tr>\n",
       "  </thead>\n",
       "  <tbody>\n",
       "    <tr>\n",
       "      <th>0</th>\n",
       "      <td>1</td>\n",
       "      <td>1</td>\n",
       "      <td>exp</td>\n",
       "      <td>2024-01-01 00:00:00</td>\n",
       "    </tr>\n",
       "    <tr>\n",
       "      <th>1</th>\n",
       "      <td>2</td>\n",
       "      <td>0</td>\n",
       "      <td>exp</td>\n",
       "      <td>2024-01-01 00:01:00</td>\n",
       "    </tr>\n",
       "    <tr>\n",
       "      <th>2</th>\n",
       "      <td>3</td>\n",
       "      <td>1</td>\n",
       "      <td>exp</td>\n",
       "      <td>2024-01-01 00:02:00</td>\n",
       "    </tr>\n",
       "    <tr>\n",
       "      <th>3</th>\n",
       "      <td>4</td>\n",
       "      <td>0</td>\n",
       "      <td>exp</td>\n",
       "      <td>2024-01-01 00:03:00</td>\n",
       "    </tr>\n",
       "    <tr>\n",
       "      <th>4</th>\n",
       "      <td>5</td>\n",
       "      <td>1</td>\n",
       "      <td>exp</td>\n",
       "      <td>2024-01-01 00:04:00</td>\n",
       "    </tr>\n",
       "    <tr>\n",
       "      <th>5</th>\n",
       "      <td>6</td>\n",
       "      <td>0</td>\n",
       "      <td>exp</td>\n",
       "      <td>2024-01-01 00:05:00</td>\n",
       "    </tr>\n",
       "    <tr>\n",
       "      <th>6</th>\n",
       "      <td>7</td>\n",
       "      <td>1</td>\n",
       "      <td>exp</td>\n",
       "      <td>2024-01-01 00:06:00</td>\n",
       "    </tr>\n",
       "    <tr>\n",
       "      <th>7</th>\n",
       "      <td>8</td>\n",
       "      <td>1</td>\n",
       "      <td>exp</td>\n",
       "      <td>2024-01-01 00:07:00</td>\n",
       "    </tr>\n",
       "    <tr>\n",
       "      <th>8</th>\n",
       "      <td>9</td>\n",
       "      <td>0</td>\n",
       "      <td>exp</td>\n",
       "      <td>2024-01-01 00:08:00</td>\n",
       "    </tr>\n",
       "    <tr>\n",
       "      <th>9</th>\n",
       "      <td>10</td>\n",
       "      <td>0</td>\n",
       "      <td>exp</td>\n",
       "      <td>2024-01-01 00:09:00</td>\n",
       "    </tr>\n",
       "  </tbody>\n",
       "</table>\n",
       "</div>"
      ],
      "text/plain": [
       "   user_id  click group            timestamp\n",
       "0        1      1   exp  2024-01-01 00:00:00\n",
       "1        2      0   exp  2024-01-01 00:01:00\n",
       "2        3      1   exp  2024-01-01 00:02:00\n",
       "3        4      0   exp  2024-01-01 00:03:00\n",
       "4        5      1   exp  2024-01-01 00:04:00\n",
       "5        6      0   exp  2024-01-01 00:05:00\n",
       "6        7      1   exp  2024-01-01 00:06:00\n",
       "7        8      1   exp  2024-01-01 00:07:00\n",
       "8        9      0   exp  2024-01-01 00:08:00\n",
       "9       10      0   exp  2024-01-01 00:09:00"
      ]
     },
     "execution_count": 3,
     "metadata": {},
     "output_type": "execute_result"
    }
   ],
   "source": [
    "#see the top 10 rows of the dataset\n",
    "df.head(10) "
   ]
  },
  {
   "cell_type": "code",
   "execution_count": 4,
   "id": "d75d1d31",
   "metadata": {},
   "outputs": [
    {
     "data": {
      "text/html": [
       "<div>\n",
       "<style scoped>\n",
       "    .dataframe tbody tr th:only-of-type {\n",
       "        vertical-align: middle;\n",
       "    }\n",
       "\n",
       "    .dataframe tbody tr th {\n",
       "        vertical-align: top;\n",
       "    }\n",
       "\n",
       "    .dataframe thead th {\n",
       "        text-align: right;\n",
       "    }\n",
       "</style>\n",
       "<table border=\"1\" class=\"dataframe\">\n",
       "  <thead>\n",
       "    <tr style=\"text-align: right;\">\n",
       "      <th></th>\n",
       "      <th>user_id</th>\n",
       "      <th>click</th>\n",
       "    </tr>\n",
       "  </thead>\n",
       "  <tbody>\n",
       "    <tr>\n",
       "      <th>count</th>\n",
       "      <td>20000.000000</td>\n",
       "      <td>20000.000000</td>\n",
       "    </tr>\n",
       "    <tr>\n",
       "      <th>mean</th>\n",
       "      <td>10000.500000</td>\n",
       "      <td>0.405250</td>\n",
       "    </tr>\n",
       "    <tr>\n",
       "      <th>std</th>\n",
       "      <td>5773.647028</td>\n",
       "      <td>0.490953</td>\n",
       "    </tr>\n",
       "    <tr>\n",
       "      <th>min</th>\n",
       "      <td>1.000000</td>\n",
       "      <td>0.000000</td>\n",
       "    </tr>\n",
       "    <tr>\n",
       "      <th>25%</th>\n",
       "      <td>5000.750000</td>\n",
       "      <td>0.000000</td>\n",
       "    </tr>\n",
       "    <tr>\n",
       "      <th>50%</th>\n",
       "      <td>10000.500000</td>\n",
       "      <td>0.000000</td>\n",
       "    </tr>\n",
       "    <tr>\n",
       "      <th>75%</th>\n",
       "      <td>15000.250000</td>\n",
       "      <td>1.000000</td>\n",
       "    </tr>\n",
       "    <tr>\n",
       "      <th>max</th>\n",
       "      <td>20000.000000</td>\n",
       "      <td>1.000000</td>\n",
       "    </tr>\n",
       "  </tbody>\n",
       "</table>\n",
       "</div>"
      ],
      "text/plain": [
       "            user_id         click\n",
       "count  20000.000000  20000.000000\n",
       "mean   10000.500000      0.405250\n",
       "std     5773.647028      0.490953\n",
       "min        1.000000      0.000000\n",
       "25%     5000.750000      0.000000\n",
       "50%    10000.500000      0.000000\n",
       "75%    15000.250000      1.000000\n",
       "max    20000.000000      1.000000"
      ]
     },
     "execution_count": 4,
     "metadata": {},
     "output_type": "execute_result"
    }
   ],
   "source": [
    "#describe the dataset in basic statistic value , this is for overall !! not just for 1 specific group\n",
    "df.describe()"
   ]
  },
  {
   "cell_type": "code",
   "execution_count": 5,
   "id": "e683e1f6",
   "metadata": {},
   "outputs": [
    {
     "name": "stdout",
     "output_type": "stream",
     "text": [
      "<class 'pandas.core.frame.DataFrame'>\n",
      "RangeIndex: 20000 entries, 0 to 19999\n",
      "Data columns (total 4 columns):\n",
      " #   Column     Non-Null Count  Dtype \n",
      "---  ------     --------------  ----- \n",
      " 0   user_id    20000 non-null  int64 \n",
      " 1   click      20000 non-null  int64 \n",
      " 2   group      20000 non-null  object\n",
      " 3   timestamp  10000 non-null  object\n",
      "dtypes: int64(2), object(2)\n",
      "memory usage: 625.1+ KB\n"
     ]
    }
   ],
   "source": [
    "#get a general info of the dataset\n",
    "df.info()"
   ]
  },
  {
   "cell_type": "markdown",
   "id": "e058497e",
   "metadata": {},
   "source": [
    "<h2> 2) Show a graph of the click distribution between the 2 groups</h2>"
   ]
  },
  {
   "cell_type": "code",
   "execution_count": 6,
   "id": "becfb4c8",
   "metadata": {},
   "outputs": [
    {
     "data": {
      "text/html": [
       "<div>\n",
       "<style scoped>\n",
       "    .dataframe tbody tr th:only-of-type {\n",
       "        vertical-align: middle;\n",
       "    }\n",
       "\n",
       "    .dataframe tbody tr th {\n",
       "        vertical-align: top;\n",
       "    }\n",
       "\n",
       "    .dataframe thead th {\n",
       "        text-align: right;\n",
       "    }\n",
       "</style>\n",
       "<table border=\"1\" class=\"dataframe\">\n",
       "  <thead>\n",
       "    <tr style=\"text-align: right;\">\n",
       "      <th></th>\n",
       "      <th>user_id</th>\n",
       "      <th>click</th>\n",
       "    </tr>\n",
       "    <tr>\n",
       "      <th>group</th>\n",
       "      <th></th>\n",
       "      <th></th>\n",
       "    </tr>\n",
       "  </thead>\n",
       "  <tbody>\n",
       "    <tr>\n",
       "      <th>con</th>\n",
       "      <td>150005000</td>\n",
       "      <td>1989</td>\n",
       "    </tr>\n",
       "    <tr>\n",
       "      <th>exp</th>\n",
       "      <td>50005000</td>\n",
       "      <td>6116</td>\n",
       "    </tr>\n",
       "  </tbody>\n",
       "</table>\n",
       "</div>"
      ],
      "text/plain": [
       "         user_id  click\n",
       "group                  \n",
       "con    150005000   1989\n",
       "exp     50005000   6116"
      ]
     },
     "execution_count": 6,
     "metadata": {},
     "output_type": "execute_result"
    }
   ],
   "source": [
    "df.groupby(\"group\").sum(\"click\")"
   ]
  },
  {
   "cell_type": "markdown",
   "id": "719143fe",
   "metadata": {},
   "source": [
    "From this code : we know that both groups are in the dataset "
   ]
  },
  {
   "cell_type": "code",
   "execution_count": 7,
   "id": "5372e3b1",
   "metadata": {
    "scrolled": true
   },
   "outputs": [
    {
     "data": {
      "image/png": "[encoded data removed]",
      "text/plain": [
       "<Figure size 640x480 with 1 Axes>"
      ]
     },
     "metadata": {},
     "output_type": "display_data"
    }
   ],
   "source": [
    "aggregated_data = df.groupby(['group', 'click']).size().unstack(fill_value=0)\n",
    "aggregated_data.plot(kind='bar', stacked=False)\n",
    "\n",
    "#0 representing no click , 1 representing click\n",
    "plt.title('Click of exp and con with 0 or 1')\n",
    "plt.xlabel('Group')\n",
    "plt.ylabel('Frequency')\n",
    "plt.xticks(rotation=0)\n",
    "plt.show()\n"
   ]
  },
  {
   "cell_type": "markdown",
   "id": "63017543",
   "metadata": {},
   "source": [
    "<h2>3) Get more details in regards to the 2 groups </h2>"
   ]
  },
  {
   "cell_type": "code",
   "execution_count": 8,
   "id": "43987f4e",
   "metadata": {},
   "outputs": [],
   "source": [
    "percentage_data = aggregated_data.div(aggregated_data.sum(axis=1), axis=0) * 100"
   ]
  },
  {
   "cell_type": "code",
   "execution_count": 9,
   "id": "40489857",
   "metadata": {},
   "outputs": [
    {
     "data": {
      "text/html": [
       "<div>\n",
       "<style scoped>\n",
       "    .dataframe tbody tr th:only-of-type {\n",
       "        vertical-align: middle;\n",
       "    }\n",
       "\n",
       "    .dataframe tbody tr th {\n",
       "        vertical-align: top;\n",
       "    }\n",
       "\n",
       "    .dataframe thead th {\n",
       "        text-align: right;\n",
       "    }\n",
       "</style>\n",
       "<table border=\"1\" class=\"dataframe\">\n",
       "  <thead>\n",
       "    <tr style=\"text-align: right;\">\n",
       "      <th>click</th>\n",
       "      <th>0</th>\n",
       "      <th>1</th>\n",
       "    </tr>\n",
       "    <tr>\n",
       "      <th>group</th>\n",
       "      <th></th>\n",
       "      <th></th>\n",
       "    </tr>\n",
       "  </thead>\n",
       "  <tbody>\n",
       "    <tr>\n",
       "      <th>con</th>\n",
       "      <td>80.11</td>\n",
       "      <td>19.89</td>\n",
       "    </tr>\n",
       "    <tr>\n",
       "      <th>exp</th>\n",
       "      <td>38.84</td>\n",
       "      <td>61.16</td>\n",
       "    </tr>\n",
       "  </tbody>\n",
       "</table>\n",
       "</div>"
      ],
      "text/plain": [
       "click      0      1\n",
       "group              \n",
       "con    80.11  19.89\n",
       "exp    38.84  61.16"
      ]
     },
     "execution_count": 9,
     "metadata": {},
     "output_type": "execute_result"
    }
   ],
   "source": [
    "#getting the percentage of the graph\n",
    "percentage_data"
   ]
  },
  {
   "cell_type": "code",
   "execution_count": 10,
   "id": "6ff9329e",
   "metadata": {},
   "outputs": [
    {
     "name": "stdout",
     "output_type": "stream",
     "text": [
      "exp    10000\n",
      "con    10000\n",
      "Name: group, dtype: int64\n"
     ]
    }
   ],
   "source": [
    "group_totals = df['group'].value_counts()\n",
    "print(group_totals)"
   ]
  },
  {
   "cell_type": "code",
   "execution_count": 11,
   "id": "8a8fc917",
   "metadata": {},
   "outputs": [
    {
     "data": {
      "text/plain": [
       "user_id      10000\n",
       "click        10000\n",
       "group        10000\n",
       "timestamp        0\n",
       "dtype: int64"
      ]
     },
     "execution_count": 11,
     "metadata": {},
     "output_type": "execute_result"
    }
   ],
   "source": [
    "numb_con =df[df[\"group\"]== \"con\"].count()\n",
    "numb_con"
   ]
  },
  {
   "cell_type": "code",
   "execution_count": 12,
   "id": "3061b869",
   "metadata": {},
   "outputs": [
    {
     "data": {
      "text/plain": [
       "user_id      10000\n",
       "click        10000\n",
       "group        10000\n",
       "timestamp    10000\n",
       "dtype: int64"
      ]
     },
     "execution_count": 12,
     "metadata": {},
     "output_type": "execute_result"
    }
   ],
   "source": [
    "numb_exp =df[df[\"group\"]== \"exp\"].count()\n",
    "numb_exp"
   ]
  },
  {
   "cell_type": "code",
   "execution_count": 13,
   "id": "7939723c",
   "metadata": {},
   "outputs": [
    {
     "data": {
      "text/plain": [
       "1989"
      ]
     },
     "execution_count": 13,
     "metadata": {},
     "output_type": "execute_result"
    }
   ],
   "source": [
    "con_click = df.groupby(\"group\")[\"click\"].sum().loc[\"con\"]\n",
    "con_click"
   ]
  },
  {
   "cell_type": "code",
   "execution_count": 14,
   "id": "f45b99ef",
   "metadata": {},
   "outputs": [
    {
     "data": {
      "text/plain": [
       "6116"
      ]
     },
     "execution_count": 14,
     "metadata": {},
     "output_type": "execute_result"
    }
   ],
   "source": [
    "exp_click = df.groupby(\"group\")[\"click\"].sum().loc[\"exp\"]\n",
    "exp_click"
   ]
  },
  {
   "cell_type": "markdown",
   "id": "32e9c3e8",
   "metadata": {},
   "source": [
    "for the 2 numbers, you can check with In[6] , they are the same so thats a good thing\n",
    "\n",
    "note that the 10000 is the total number of unique for each group (con/exp) , they just happen to be the same number. "
   ]
  },
  {
   "cell_type": "markdown",
   "id": "179f9c63",
   "metadata": {},
   "source": [
    "<h2>4) Calculate the Pooled Estimate, Pooled Variance, Pooled Standard Error and Test statistic -> Z critical value"
   ]
  },
  {
   "cell_type": "code",
   "execution_count": 15,
   "id": "ab8287c5",
   "metadata": {},
   "outputs": [
    {
     "data": {
      "text/plain": [
       "user_id      0.1989\n",
       "click        0.1989\n",
       "group        0.1989\n",
       "timestamp       inf\n",
       "dtype: float64"
      ]
     },
     "execution_count": 15,
     "metadata": {},
     "output_type": "execute_result"
    }
   ],
   "source": [
    "Probability_estimated_clicks_con = con_click/numb_con\n",
    "Probability_estimated_clicks_con"
   ]
  },
  {
   "cell_type": "code",
   "execution_count": 16,
   "id": "302c810f",
   "metadata": {},
   "outputs": [
    {
     "data": {
      "text/plain": [
       "user_id      0.6116\n",
       "click        0.6116\n",
       "group        0.6116\n",
       "timestamp    0.6116\n",
       "dtype: float64"
      ]
     },
     "execution_count": 16,
     "metadata": {},
     "output_type": "execute_result"
    }
   ],
   "source": [
    "Probability_estimated_clicks_exp = exp_click/numb_exp\n",
    "Probability_estimated_clicks_exp"
   ]
  },
  {
   "cell_type": "code",
   "execution_count": 17,
   "id": "be8a90f0",
   "metadata": {},
   "outputs": [
    {
     "data": {
      "text/plain": [
       "user_id      0.40525\n",
       "click        0.40525\n",
       "group        0.40525\n",
       "timestamp    0.81050\n",
       "dtype: float64"
      ]
     },
     "execution_count": 17,
     "metadata": {},
     "output_type": "execute_result"
    }
   ],
   "source": [
    "Pooled_Probability_estimated_all = (con_click + exp_click) / (numb_con + numb_exp)\n",
    "Pooled_Probability_estimated_all"
   ]
  },
  {
   "cell_type": "markdown",
   "id": "7d19767b",
   "metadata": {},
   "source": [
    "Notice that the pooled_estimate_all is the mean value "
   ]
  },
  {
   "cell_type": "code",
   "execution_count": 18,
   "id": "6fa2157f",
   "metadata": {},
   "outputs": [
    {
     "data": {
      "text/plain": [
       "user_id      0.000048\n",
       "click        0.000048\n",
       "group        0.000048\n",
       "timestamp         inf\n",
       "dtype: float64"
      ]
     },
     "execution_count": 18,
     "metadata": {},
     "output_type": "execute_result"
    }
   ],
   "source": [
    "pooled_variance = Pooled_Probability_estimated_all * (1- Pooled_Probability_estimated_all) * (1/numb_con+ 1/numb_exp)\n",
    "pooled_variance"
   ]
  },
  {
   "cell_type": "code",
   "execution_count": 19,
   "id": "95c74883",
   "metadata": {},
   "outputs": [
    {
     "data": {
      "text/plain": [
       "user_id      0.006943\n",
       "click        0.006943\n",
       "group        0.006943\n",
       "timestamp         inf\n",
       "dtype: float64"
      ]
     },
     "execution_count": 19,
     "metadata": {},
     "output_type": "execute_result"
    }
   ],
   "source": [
    "Standard_error = np.sqrt(pooled_variance)\n",
    "Standard_error"
   ]
  },
  {
   "cell_type": "code",
   "execution_count": 20,
   "id": "e42539ae",
   "metadata": {},
   "outputs": [
    {
     "name": "stdout",
     "output_type": "stream",
     "text": [
      "user_id     -59.441633\n",
      "click       -59.441633\n",
      "group       -59.441633\n",
      "timestamp          NaN\n",
      "dtype: float64\n"
     ]
    }
   ],
   "source": [
    "#This is a 2-sample stat-test for Z-test, note , we can use 2-sample T test too !!  \n",
    "Test_stat = (Probability_estimated_clicks_con - Probability_estimated_clicks_exp)/Standard_error\n",
    "print(Test_stat)"
   ]
  },
  {
   "cell_type": "code",
   "execution_count": 21,
   "id": "bf9f8867",
   "metadata": {},
   "outputs": [
    {
     "data": {
      "text/plain": [
       "1.959963984540054"
      ]
     },
     "execution_count": 21,
     "metadata": {},
     "output_type": "execute_result"
    }
   ],
   "source": [
    "#critical value for Z-test (standard normal distribution) , why 2 is because we have a 2 sameple 2 sided test \n",
    "alpha = 0.05 #set the alpha to 5% (Probability of Type 1 error, Significance Level)\n",
    "Z_critical_value = norm.ppf(1-alpha/2)\n",
    "Z_critical_value "
   ]
  },
  {
   "cell_type": "markdown",
   "id": "e9dc54f0",
   "metadata": {},
   "source": [
    "59.44 is larger than 1.95 so we know that we can reject the null hypothesis but !! using P-value , it is alot more used , proper way of doing it"
   ]
  },
  {
   "cell_type": "markdown",
   "id": "be183ccc",
   "metadata": {},
   "source": [
    "<h2>5) Calculate the P-test of the Z-test. </h2>"
   ]
  },
  {
   "cell_type": "code",
   "execution_count": 22,
   "id": "205c8176",
   "metadata": {},
   "outputs": [
    {
     "data": {
      "text/plain": [
       "0.0"
      ]
     },
     "execution_count": 22,
     "metadata": {},
     "output_type": "execute_result"
    }
   ],
   "source": [
    "p_value = 2*norm.sf(abs(-59.441633))\n",
    "p_value"
   ]
  },
  {
   "cell_type": "code",
   "execution_count": 23,
   "id": "fd5e32d5",
   "metadata": {},
   "outputs": [],
   "source": [
    "alpha = 0.05 #set the alpha to 5% (Probability of Type 1 error, Significance Level)\n",
    "def is_statistical_significance(p_value, alpha):\n",
    "    \"\"\"\n",
    "    Determines whether a result is statistically significant.\n",
    "\n",
    "    Parameters:\n",
    "    p_value (float): The p-value obtained from a statistical test.\n",
    "    alpha (float): The significance level (e.g., 0.05 for a 5% significance level).\n",
    "\n",
    "    Returns:\n",
    "    bool: True if the result is statistically significant, False otherwise.\n",
    "    \"\"\"\n",
    "    if p_value < alpha:\n",
    "        return print(\"there is a statistically significant between the groups\")\n",
    "    else:\n",
    "        return print(\"there is NO a statistically significant betweem the groups\")\n",
    "\n",
    "    "
   ]
  },
  {
   "cell_type": "code",
   "execution_count": 24,
   "id": "d0074371",
   "metadata": {},
   "outputs": [
    {
     "name": "stdout",
     "output_type": "stream",
     "text": [
      "there is a statistically significant between the groups\n"
     ]
    }
   ],
   "source": [
    "is_statistical_significance(p_value, alpha)"
   ]
  },
  {
   "cell_type": "markdown",
   "id": "0c8b360b",
   "metadata": {},
   "source": [
    "This shows that we can reject the null hypothesis ! which shows that there is a true difference between the group "
   ]
  },
  {
   "cell_type": "markdown",
   "id": "5762c115",
   "metadata": {},
   "source": [
    "<h2> 6)Calculate show the confidence interval of the test:</h2>"
   ]
  },
  {
   "cell_type": "code",
   "execution_count": 25,
   "id": "f05d29a0",
   "metadata": {},
   "outputs": [
    {
     "data": {
      "image/png": "[encoded data removed]",
      "text/plain": [
       "<Figure size 640x480 with 1 Axes>"
      ]
     },
     "metadata": {},
     "output_type": "display_data"
    }
   ],
   "source": [
    "mu = 0 #mean\n",
    "sigma = 1 #SD\n",
    "x = np.linspace(mu-3*sigma, mu+3*sigma, 100)\n",
    "y = norm.pdf(x,mu,sigma)\n",
    "\n",
    "\n",
    "plt.plot(x,y,label = \"standard normal distribution\")\n",
    "plt.fill_between(x,y,where=(x > Z_critical_value) | (x < - Z_critical_value),color='blue',alpha =0.5, label = 'Rejection region') \n",
    "# the test strat\n",
    "plt.axvline(-59.441633, color= 'red', linestyle = 'dashed', linewidth = 2 , label = 'test stat')\n",
    "# the z critical value\n",
    "plt.axvline(Z_critical_value, color= 'green', linestyle = 'dashed', linewidth = 2 , label = 'Z_critical_value')\n",
    "plt.axvline(- Z_critical_value, color= 'green', linestyle = 'dashed', linewidth = 1 , label = '- Z_critical_value')  \n",
    "\n",
    "\n",
    "plt.xlabel('Z-value')\n",
    "plt.ylabel('Probability Density')\n",
    "plt.title('Gaussian Distribution with Rejection region')\n",
    "plt.legend()\n",
    "plt.show()"
   ]
  },
  {
   "cell_type": "markdown",
   "id": "455f2d35",
   "metadata": {},
   "source": [
    "Interpretation of the Graph:\n",
    "-Extreme Test Statistic: The test statistic is far outside the range of the standard normal distribution, beyond the Z-critical values. This indicates that if the null hypothesis were true, the probability of obtaining such a test statistic would be extremely low.\n",
    "- Rejecting the Null Hypothesis: Since the test statistic falls well within the rejection region (actually, it is far beyond it), you would reject the null hypothesis with strong evidence against it.\n",
    "\n",
    "The extreme position of the test statistic suggests that the observed data is very unlikely under the null hypothesis, leading to a rejection of the null hypothesis in favor of the alternative hypothesis.\n"
   ]
  },
  {
   "cell_type": "code",
   "execution_count": 26,
   "id": "963a50c0",
   "metadata": {},
   "outputs": [
    {
     "data": {
      "text/plain": [
       "[user_id      0.426\n",
       " click        0.426\n",
       " group        0.426\n",
       " timestamp      NaN\n",
       " dtype: float64,\n",
       " user_id      0.399\n",
       " click        0.399\n",
       " group        0.399\n",
       " timestamp      inf\n",
       " dtype: float64]"
      ]
     },
     "execution_count": 26,
     "metadata": {},
     "output_type": "execute_result"
    }
   ],
   "source": [
    "CI = [\n",
    "    #1st is for the lower bound, 2nd is for the upper bound, the 3 = 3 decimal place\n",
    "    abs(round((Probability_estimated_clicks_con - Probability_estimated_clicks_exp)- (Standard_error * Z_critical_value), 3)),\n",
    "    abs(round((Probability_estimated_clicks_con - Probability_estimated_clicks_exp) + (Standard_error * Z_critical_value), 3))\n",
    "]\n",
    "\n",
    "CI"
   ]
  },
  {
   "cell_type": "code",
   "execution_count": 27,
   "id": "28f8bce7",
   "metadata": {},
   "outputs": [],
   "source": [
    "delta = 0.1 #set delta to 10% (Minimum Detectable Effect )\n",
    "def is_practical_significant(delta, CI_95):\n",
    "    \"\"\"\n",
    "    Determines whether the effect size (delta) is practically significant.\n",
    "\n",
    "    Parameters:\n",
    "    delta (float): The minimum effect size that is considered practically significant.\n",
    "    CI_95 (list): A list containing the lower and upper bounds of the 95% confidence interval.\n",
    "\n",
    "    Returns:\n",
    "    bool: True if the entire confidence interval is greater than the practical significance threshold (delta), False otherwise.\n",
    "    \"\"\"\n",
    "    lower_bound, upper_bound = CI_95\n",
    "    \n",
    "    # Check if the entire confidence interval is above the practical significance threshold (delta)\n",
    "    if lower_bound <= delta:\n",
    "        print('there is a practical significance')\n",
    "        return True\n",
    "    else:\n",
    "        print('there is NO a practical significance')\n",
    "        return False"
   ]
  },
  {
   "cell_type": "code",
   "execution_count": 28,
   "id": "f2b2a687",
   "metadata": {},
   "outputs": [
    {
     "name": "stdout",
     "output_type": "stream",
     "text": [
      "there is a practical significance\n"
     ]
    },
    {
     "data": {
      "text/plain": [
       "True"
      ]
     },
     "execution_count": 28,
     "metadata": {},
     "output_type": "execute_result"
    }
   ],
   "source": [
    "CI_95 = [0.04, 0.06] \n",
    "is_practical_significant(delta, CI_95)"
   ]
  },
  {
   "cell_type": "markdown",
   "id": "b1ce56f0",
   "metadata": {},
   "source": [
    "note : 0.04 = lower bound of the 95% confidence interval"
   ]
  },
  {
   "cell_type": "code",
   "execution_count": null,
   "id": "e50247d1",
   "metadata": {},
   "outputs": [],
   "source": []
  }
 ],
 "metadata": {
  "kernelspec": {
   "display_name": "Python 3 (ipykernel)",
   "language": "python",
   "name": "python3"
  },
  "language_info": {
   "codemirror_mode": {
    "name": "ipython",
    "version": 3
   },
   "file_extension": ".py",
   "mimetype": "text/x-python",
   "name": "python",
   "nbconvert_exporter": "python",
   "pygments_lexer": "ipython3",
   "version": "3.10.8"
  }
 },
 "nbformat": 4,
 "nbformat_minor": 5
}
